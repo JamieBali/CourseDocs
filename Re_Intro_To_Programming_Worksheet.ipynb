{
  "nbformat": 4,
  "nbformat_minor": 0,
  "metadata": {
    "colab": {
      "provenance": [],
      "authorship_tag": "ABX9TyPwuVIOlvb9UBCqiHJol2Ai",
      "include_colab_link": true
    },
    "kernelspec": {
      "name": "python3",
      "display_name": "Python 3"
    },
    "language_info": {
      "name": "python"
    }
  },
  "cells": [
    {
      "cell_type": "markdown",
      "metadata": {
        "id": "view-in-github",
        "colab_type": "text"
      },
      "source": [
        "<a href=\"https://colab.research.google.com/github/JamieBali/CourseDocs/blob/main/Re_Intro_To_Programming_Worksheet.ipynb\" target=\"_parent\"><img src=\"https://colab.research.google.com/assets/colab-badge.svg\" alt=\"Open In Colab\"/></a>"
      ]
    },
    {
      "cell_type": "markdown",
      "source": [
        "# Re-Introduction to Programming\n",
        "\n",
        "Welcome to Re-Introduction to Programming, the first practical session of this course. This worksheet will bring you up to speed with Python and get you ready to start your journey into making AI."
      ],
      "metadata": {
        "id": "si5f_8j3a3Cc"
      }
    },
    {
      "cell_type": "markdown",
      "source": [
        "## Part 1: Data Types\n",
        "\n",
        "Data types in Python are determined when you fill them. This means that data in Python is very versatile. Let's start by talking about data types. \n",
        "\n",
        "\n",
        ">Strings are blocks of text, including numbers, spaces, and special characters.\n",
        ">\n",
        ">Integers are numbers.\n",
        "> \n",
        ">Floats are number which include decimals.\n",
        ">\n",
        ">Booleans are true or false statements.\n",
        "\n",
        "There are more data types than this, but these are the important ones that we'll focus on here."
      ],
      "metadata": {
        "id": "45iyt1XdbJU2"
      }
    },
    {
      "cell_type": "code",
      "execution_count": null,
      "metadata": {
        "id": "fuoGu56WasqC"
      },
      "outputs": [],
      "source": [
        "# Task 1 : Declare one variable of each of these data types.\n",
        "\n",
        "String_Variable = \n",
        "Integer_Variable = \n",
        "Boolean_Variable = \n",
        "Float_Variable = \n",
        "\n",
        "if (type(String_Variable) == str):\n",
        "  print(\"String Defined Correctly\")\n",
        "if (type(Integer_Variable) == int):\n",
        "  print(\"Integer Defined Correctly\")\n",
        "if (type(Boolean_Variable) == bool):\n",
        "  print(\"Boolean Defined Correctly\")\n",
        "if (type(Float_Variable) == float):\n",
        "  print(\"Float Defined Correctly\")"
      ]
    },
    {
      "cell_type": "markdown",
      "source": [
        "##Part 2: Data Structures\n",
        "\n",
        "Data structures make our code more complex and allow it to do more things. We can't only ever use basic data types, so we have many other important data structures to learn.\n",
        "\n",
        "> A list is (as you guessed it) a list of items of any data type.\n",
        "> Lists can contain any data type, including more lists.\n",
        ">\n",
        "> A dictionary is a selection of keys which link to items.\n",
        "> Like with lists, dictionaries can contain other data structures, including other lists and dictionaries.\n",
        "\n",
        "We can go as far as we want with these, ending up with lists containing dictionaries, containing more dictionaries, containing even more lists. There are more compelx data structures than this, but for now we'll cover just these."
      ],
      "metadata": {
        "id": "YqdDovbcbMDS"
      }
    },
    {
      "cell_type": "code",
      "source": [
        "# Task 2 : Declare a list with 6 integers inside\n",
        "\n",
        "List_Variable = []\n",
        "\n",
        "if len(List_Variable) == 6 and type(List_Variable[0]) == int:\n",
        "  print(\"List Defined Correctly\")\n",
        "\n",
        "# Task 3 : Fill the dictionary below with the ages of some people\n",
        "\n",
        "Dictionary_Variable = {\"Alan\": \n",
        "                       \"Bob\": \n",
        "                       \"Carlos\": \n",
        "                       \"Dave\": \n",
        "                       \"Elizabeth\": \n",
        "                       \"Fred\": }\n",
        "\n",
        "if len(Dictionary_Variable.items()) == 6:\n",
        "  print(\"Dictionary Definted Correctly\")"
      ],
      "metadata": {
        "id": "e5d2VTBbeVYR"
      },
      "execution_count": null,
      "outputs": []
    },
    {
      "cell_type": "markdown",
      "source": [
        "## Part 3: Operators\n",
        "\n",
        "Operators refer to anything you can do to process data. Addition, subtraction, multiplication, division, and more. \n",
        "\n",
        "Some operations have special characters, for example multiplication uses * (eg. 2 * 3 = 6)\n",
        "\n",
        "Feel free to have a search online for more operators - you might need it for the task below!\n",
        "\n"
      ],
      "metadata": {
        "id": "kjg9SlwJfw_I"
      }
    },
    {
      "cell_type": "code",
      "source": [
        "# Task 4 : Fill in the equations below with the correct operator. Replace the _ in the equations\n",
        "\n",
        "# Equation 1\n",
        "if (2 _ 4 == 8):\n",
        "  print(\"Question 1 succeedeed\")\n",
        "\n",
        "# Equation 2\n",
        "if (16 _ 3 == 13):\n",
        "  print(\"Question 2 succeedeed\")\n",
        "\n",
        "# Equation 3\n",
        "if (100 _ 4 == 25):\n",
        "  print(\"Question 3 succeedeed\")\n",
        "\n",
        "# Equation 4 : Hint. This operator returns the remaineder of a division\n",
        "if (99 _ 2 == 1):\n",
        "  print(\"Question 4 succeedeed\")\n",
        "\n",
        "# Equation 5 : Hint. This operator returns a the result of a division, ignoring the remainder.\n",
        "if (71 _ 10 == 7):\n",
        "  print(\"Question 5 succeedeed\")"
      ],
      "metadata": {
        "id": "MeQf8F_-fwhY"
      },
      "execution_count": null,
      "outputs": []
    },
    {
      "cell_type": "markdown",
      "source": [
        "## Part 4: Selection\n",
        "\n",
        "Selection is one of the most important and useful structures in programming - giving your program the capacity to make decisions. An \"if\" statement can be used to control where the program goes.\n",
        "\n",
        "\"If this, then that.\"\n",
        "\n",
        "We can extend these with \"else\" statments.\n",
        "\n",
        "\"Else do something.\"\n",
        "\n",
        "Statements can also contain operators like AND, OR, and NOT to affect the output, as well as comparators like greater than (>) and less than (<)"
      ],
      "metadata": {
        "id": "mEnIIG6TFBxk"
      }
    },
    {
      "cell_type": "code",
      "source": [
        "# Task 5 : Fill in these statements so that only the correct output is printed.\n",
        "\n",
        "a = 12\n",
        "b = [1,2,3,4,5,6,7]\n",
        "c = \"Hello\"\n",
        "d = 9\n",
        "\n",
        "if (a == _ ):\n",
        "  print(\"Print this one\")\n",
        "\n",
        "if (len(b) == _ ):\n",
        "  print(\"Print this one\")\n",
        "\n",
        "if (c == _ ):\n",
        "  print(\"Don't print this one\")\n",
        "else:\n",
        "  print(\"Print this one\")\n",
        "\n",
        "if (_ > 10 and _ < 10)\n",
        "  print(\"Print this one\")"
      ],
      "metadata": {
        "id": "lSmJYIQgGGwN"
      },
      "execution_count": null,
      "outputs": []
    },
    {
      "cell_type": "markdown",
      "source": [
        "## Part 5: Itteration\n",
        "\n",
        "Itteration refers to loops"
      ],
      "metadata": {
        "id": "9aQsmNF-Mlzg"
      }
    }
  ]
}