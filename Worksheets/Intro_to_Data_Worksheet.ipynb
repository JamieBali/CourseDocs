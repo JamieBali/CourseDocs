{
  "nbformat": 4,
  "nbformat_minor": 0,
  "metadata": {
    "colab": {
      "provenance": [],
      "authorship_tag": "ABX9TyMHmRs99hWwZ+2ctnuOnBSi",
      "include_colab_link": true
    },
    "kernelspec": {
      "name": "python3",
      "display_name": "Python 3"
    },
    "language_info": {
      "name": "python"
    }
  },
  "cells": [
    {
      "cell_type": "markdown",
      "metadata": {
        "id": "view-in-github",
        "colab_type": "text"
      },
      "source": [
        "<a href=\"https://colab.research.google.com/github/JamieBali/CourseDocs/blob/main/Intro_to_Data_Worksheet.ipynb\" target=\"_parent\"><img src=\"https://colab.research.google.com/assets/colab-badge.svg\" alt=\"Open In Colab\"/></a>"
      ]
    },
    {
      "cell_type": "markdown",
      "source": [
        "# Introduction to Data\n",
        "\n",
        "Python as a language that is very good at processing data. We can use this to our advantage when making AI systems as we need to use a lot of data to make an accurate system.\n",
        "\n",
        "Lets start by importing some example data. Run this block below to populate some variables."
      ],
      "metadata": {
        "id": "ekF22SqXnw7B"
      }
    },
    {
      "cell_type": "code",
      "execution_count": 4,
      "metadata": {
        "id": "VteK2V7into6"
      },
      "outputs": [],
      "source": [
        "queen_mab = \"\"\"O, then, I see Queen Mab hath been with you. She is the fairies’ midwife, and she comes in shape no bigger than an agate-stone on the fore-finger of an alderman, drawn with a team of little atomies \n",
        "              athwart men’s noses as they lie asleep; her wagon-spokes made of long spinners’ legs, the cover of the wings of grasshoppers, the traces of the smallest spider’s web, the collars of the moonshine’s \n",
        "              watery beams, her whip of cricket’s bone, the lash of film, her wagoner a small grey-coated gnat, not so big as a round little worm prick’d from the lazy finger of a maid; her chariot is an empty \n",
        "              hazel-nut made by the joiner squirrel or old grub, time out o’ mind the fairies’ coachmakers. And in this state she gallops night by night through lovers’ brains, and then they dream of love; \n",
        "              O’er courtiers’ knees, that dream on court’sies straight, O’er lawyers’ fingers, who straight dream on fees, O’er ladies lips, who straight on kisses dream, Which oft the angry Mab with blisters \n",
        "              plagues, because their breaths with sweetmeats tainted are: Sometime she gallops o’er a courtier’s nose, and then dreams he of smelling out a suit; and sometime comes she with a tithe-pig’s tail\n",
        "              tickling a parson’s nose as a’ lies asleep, then dreams, he of another benefice: Sometime she driveth o’er a soldier’s neck, and then dreams he of cutting foreign throats, gf breaches, ambuscadoes, \n",
        "              Spanish blades, of healths five-fathom deep; and then anon drums in his ear, at which he starts and wakes, and being thus frighted swears a prayer or two and sleeps again. This is that very Mab \n",
        "              that plats the manes of horses in the night, and bakes the elflocks in foul sluttish hairs, which once untangled, much misfortune bodes: this is the hag, when maids lie on their backs, that presses \n",
        "              them and learns them first to bear, making them women of good carriage.\"\"\"\n",
        "              # Queen Mab Speech : Romeo and Juliet : Shakespeare\n",
        "\n",
        "numbers = [12,73,24,11,6,47,26,73,15,85,53,85,27,58,51,47,92,16,24,75,35,86,35,47,98,54,75,42]"
      ]
    },
    {
      "cell_type": "markdown",
      "source": [
        "# Sorting\n",
        "\n",
        "First, we should look at sorting. There are various ways to sort data, but most commonly we will need to sort data into ascending or descending order.\n",
        "\n",
        "We can use a slow, but very easy to implement form of sorting to start with. This form of sorting is known as the \"bubble sort.\" The bubble sort is very simple to implement - we look through every item in a list, comparing two items, and moving the bigger one up in the list. We loop through the list until we've checked every pair of values and we end up with a sorted list.\n",
        "\n",
        "```\n",
        "for (x in range (0, length_of_list - 1): # we only loop to the 2nd last item because we compare against the item in front\n",
        "  if (list[x] > list[x+1]):\n",
        "    swap(list[x], list[x+1])\n",
        "\n",
        "# loop the above until the list is sorted.\n",
        "```\n",
        "\n",
        "A thing that makes the bubble sort special is that it does not need to create a second list to store sorted items - the sorting happens entirely within the input list."
      ],
      "metadata": {
        "id": "T2PX-LTUpv3C"
      }
    },
    {
      "cell_type": "code",
      "source": [
        "# before making the sort, we should make the swapping function.\n",
        "# this function takes the list of items and the index of the left-most item and swaps it with the item in front of it (index + 1)\n",
        "# make sure to create a temporary (nonce) value to store the item before swapping them so we don't overwrite the data and lose it.\n",
        "def swap(list_of_items, index):\n",
        "\n",
        "  return list_of_items\n",
        "\n",
        "# With our swap function made, we can now create a bubble sort.\n",
        "# We can either make a while loop and perform a check to see if the list is sorted (you'll need to make another function for this),\n",
        "# or we can just loop a given number of times. How many times will we need to loop through to guarantee that any list is sorted?\n",
        "def bubble_sort(items):\n",
        "\n",
        "  return items\n",
        "\n",
        "# hint : think about the len(x) function which returns the length of a given list.\n",
        "\n",
        "sorted_list = bubble_sort(numbers)"
      ],
      "metadata": {
        "id": "YaC9h1_koqQs"
      },
      "execution_count": null,
      "outputs": []
    },
    {
      "cell_type": "markdown",
      "source": [
        "Now that we have a sorted list of numbers, we can more easily do certain functions. Why don't we look at making some more numerical data functions. We may need to refer back to these in future sessions."
      ],
      "metadata": {
        "id": "wg_52XDftbW4"
      }
    },
    {
      "cell_type": "code",
      "source": [
        "# The Mean is the average. Sum all the numbers together, and divide it by the number of items.\n",
        "def get_mean(list_of_items):\n",
        "  mean = 0\n",
        "\n",
        "  return mean\n",
        "\n",
        "# The Median is the middle number. We can find this more easily now that we have our sorted numbers.\n",
        "def get_median(list_of_items):\n",
        "  median = 0\n",
        "\n",
        "  return median\n",
        "\n",
        "# Challenge : Since our values are already sorted, you can actually find the median in a *single line of code!* Can you figure it out?\n",
        "\n",
        "print(\"mean : \" + get_mean(sorted_list))\n",
        "print(\"median : \" + get_median(sorted_list) )"
      ],
      "metadata": {
        "id": "XnsssX0Pt4hX"
      },
      "execution_count": null,
      "outputs": []
    },
    {
      "cell_type": "markdown",
      "source": [
        "# Data Manipulation\n",
        "\n",
        "Sorting our data and finding information about it is one thing, but manipulating the data is what makes a computer much better at data processing.\n",
        "\n",
        "The block of text we have above (the Queen Mab speech from Romeo and Juliet) is a bit too bulky for a computer to handle and process well, so we need to manipulate it to make it easier to process. We can start by using the `replace` function to remove all the punctuation, as this won't do us any good for the time being.\n",
        "\n",
        "```\n",
        "input = \"text goes here\"\n",
        "output = input.replace(\"e\",\"\")\n",
        "print(output)\n",
        "\n",
        "\"txt gos hr\"\n",
        "```\n",
        "\n",
        "Can you make a function that removes all full stops (.), commas (,), appostrophes ('), colons(:), and semi-colons (;) from a given block of text?"
      ],
      "metadata": {
        "id": "D28OmNlFtV6H"
      }
    },
    {
      "cell_type": "code",
      "source": [
        "# You'll need to use multiple .replace() functions in succession to make this work.\n",
        "# As a challenge, can you make this function accept a list of punctionation marks to remove and pass it as an extra value?\n",
        "# You can test this by making it remove everything except the appostrophes (')\n",
        "def remove_punctuation(input_string):\n",
        "  output_string = \"\"\n",
        "\n",
        "  return output_string"
      ],
      "metadata": {
        "id": "pABO7dX2wNm2"
      },
      "execution_count": null,
      "outputs": []
    },
    {
      "cell_type": "markdown",
      "source": [
        "When working with strings of text, another common function that we'll need to do is \"tokenization.\" This is the technical term for splitting one thing up into smaller bits. We could Tokenize a book into chapters, tokenize a chapter into sentences, or tokenize a sentence into individual words. We will be doing the latter.\n",
        "\n",
        "Python has a handy `split` function which easily allows us to separate strings into lists based on the occurance of a given character. We can use the `split` function to separate a sentence into works by cutting them wherever there is a space (\" \")."
      ],
      "metadata": {
        "id": "LKjsejNGwrfP"
      }
    },
    {
      "cell_type": "code",
      "source": [
        "# Here we want to call our \"remove_punctuation\" function as well as the python inbuilt \"split\" function to turn our long block of text into individual tokens\n",
        "def tokenize(input_string):\n",
        "  output_list = []\n",
        "\n",
        "  return output_list\n",
        "\n",
        "tokens = tokenize(queen_mab)\n",
        "print(tokens)"
      ],
      "metadata": {
        "id": "Tm_dg70qzbJO"
      },
      "execution_count": null,
      "outputs": []
    },
    {
      "cell_type": "markdown",
      "source": [
        "# Data Analysis\n",
        "\n",
        "A powerful approach to text data analysis is with the use of dictionaries. We covered dictionaries last week, but today we will be using them properly to find the count of occurances of different words.\n",
        "\n",
        "We want to look through all the tokens we have generated and use these tokens as keys in the dictioanry, counting how many times each word occurs.\n",
        "\n"
      ],
      "metadata": {
        "id": "QIpftHLsz4JG"
      }
    },
    {
      "cell_type": "code",
      "source": [
        "def count_tokens(tokens):\n",
        "  counts = {}\n",
        "\n",
        "  return counts"
      ],
      "metadata": {
        "id": "N0vVrzrm1LwU"
      },
      "execution_count": null,
      "outputs": []
    },
    {
      "cell_type": "markdown",
      "source": [
        "Dictionaries are a bit harder to sort, as they have lots of linked reference values and aren't as easy to manipulate as a list. Luckily, Python has plenty of inbuilt functions that help with manipulating more complex data types.\n",
        "\n",
        "I've written a function for you here which will allow you to sort a dictionary very easily."
      ],
      "metadata": {
        "id": "hPN85Mx81o1h"
      }
    },
    {
      "cell_type": "code",
      "source": [
        "# See the variables here that already contain data in the definition? These are called \"defaults\"\n",
        "# If you don't provide any data for these variables, they will \"default\" to the provided values.\n",
        "# If you call this function while only providing a dictionary, it will return a list in ascending order.\n",
        "# Have a play around with what happens when you provide different values.\n",
        "def sort_dictionary(_dict, descending = False, return_as_dict = False):\n",
        "  srt = sorted(_dict.items(), key=lambda items:items[1], reverse=descending)\n",
        "  if return_as_dict:\n",
        "    return dict(srt)\n",
        "  else:\n",
        "    return srt"
      ],
      "metadata": {
        "id": "yZDFNwvc2Oid"
      },
      "execution_count": 22,
      "outputs": []
    },
    {
      "cell_type": "markdown",
      "source": [
        "Now we can sort our dictionary. The function I've provided above allows us to output the sorted dictionary as either a dictionary itself (so we can do more processing) or as a list. Can you use this function to find out some information below?"
      ],
      "metadata": {
        "id": "VD-H5NaN4PIL"
      }
    },
    {
      "cell_type": "code",
      "source": [
        "# What dictionary output format can you use to find out the most commonly used word?\n",
        "def most_common_word(unsorted_dictionary):\n",
        "  top_word = \"\"\n",
        "\n",
        "  return top_word\n",
        "\n",
        "# Here we provide an extra variable \"k\" which is an integer. Can you print the words which were used less than k times?\n",
        "# We don't need to return anything in this function.\n",
        "def words_used_less_than_k_times(unsorted_dictionary, k):\n",
        "  print(\"words here.\") "
      ],
      "metadata": {
        "id": "u1ylvayo4OV8"
      },
      "execution_count": null,
      "outputs": []
    },
    {
      "cell_type": "markdown",
      "source": [
        "# Extension : Further Data Forms\n",
        "\n",
        "Other common data forms that we haven't really covered here are tuples, multi-dimensional arrays, and sub-dictionaries. We will likely cover all these data forms later, but if you have time, you can have a look at these now.\n",
        "\n",
        "A tuple is like a really small list of limited size. A tuple is a piece of data which contains very few related pieces of data that don't require a full list data type. When it comes to holding large amounts of data, a tuple can be more effective as they use up less memory. Tuples can be used to hold coordinates, vectors, or colour codes.\n",
        "\n",
        "\n",
        "\n"
      ],
      "metadata": {
        "id": "Q1YLgaVv-94U"
      }
    },
    {
      "cell_type": "code",
      "source": [
        "coordinate_a = (1,4)\n",
        "coordinate_b = (3,7)\n",
        "\n",
        "# tuples here refer to vectors. If you have time, why not sharpen your Python skills by making some vector functions. \n",
        "# Can you make a function to find the vector between two coordinates? Process a vector from a certain coordinate? \n",
        "# As a real challenge, can you give a list of coordinates and scale them all using the same transformations?"
      ],
      "metadata": {
        "id": "qbFLouMbBrHq"
      },
      "execution_count": null,
      "outputs": []
    },
    {
      "cell_type": "markdown",
      "source": [
        "A multi-dimensional array is just what it says! A list can be seen as a 1-dimensional array, so if we have a list inside a list, we can treat it as a 2-dimenional grid.\n",
        "We can use a co-ordinate system to refer to a specific value in the array, like you would on a battleship grid.\n",
        "\n",
        "Lots of board game palying agents will use a 2-dimensional array to represent the board they use, such as chess, checkers, go, battleship, and more. "
      ],
      "metadata": {
        "id": "dsADfLESBp_S"
      }
    },
    {
      "cell_type": "code",
      "source": [
        "grid = [[9,5,4,7,2],[2,7,9,1,1],[8,7,9,9,2],[5,5,5,5,5],[4,7,6,2,3]]\n",
        "\n",
        "# Here is a 2-dimensional grid. Can you use the functions written earlier in this session to sort each of the sub-lists?\n",
        "\n",
        "\n",
        "\n",
        "# Can you now order those sub-lists based on their means, such that grid[0] would give the sub-list with the lowest mean, and sub-list[4] would return the highest?"
      ],
      "metadata": {
        "id": "MbNe0tgQCpBx"
      },
      "execution_count": null,
      "outputs": []
    },
    {
      "cell_type": "markdown",
      "source": [
        "A sub-dictionary refers to a dictionary which we put as the value inside another dictionary. I won't give any spoilers as to where we can use these as we'll be looking at them next week."
      ],
      "metadata": {
        "id": "Pl98HPS4BnDi"
      }
    }
  ]
}
